{
 "cells": [
  {
   "cell_type": "markdown",
   "id": "e91082aa",
   "metadata": {},
   "source": [
    "# Introduction\n",
    "\n",
    "This file preprocesses the dataset below for further use in DeepLearning algorithms.\n",
    "It rescales the images to the same size, ensures RGB mode with 3 channels and saves the processed images as jpg still into (translated) category folders.\n",
    "It also generates a dataframe with metadata of the cleaned dataset and saves it as csv to allow simple loading for later use in preparing the dataset for deep learning.  \n",
    "\n",
    "Dataset: <https://www.kaggle.com/datasets/alessiocorrado99/animals10/data>\n",
    "\n"
   ]
  },
  {
   "cell_type": "markdown",
   "id": "fefb2953",
   "metadata": {},
   "source": [
    "# Preamble\n",
    "\n",
    "## Downloading the data"
   ]
  },
  {
   "cell_type": "code",
   "execution_count": 2,
   "id": "b049c068",
   "metadata": {},
   "outputs": [],
   "source": [
    "# uncomment only if redownload is desired\n",
    "\n",
    "# ! curl -L -o data/data.zip https://www.kaggle.com/api/v1/datasets/download/alessiocorrado99/animals10\n",
    "# ! unzip data/data.zip -d data/"
   ]
  },
  {
   "cell_type": "markdown",
   "id": "64a57f77",
   "metadata": {},
   "source": [
    "## Libraries"
   ]
  },
  {
   "cell_type": "code",
   "execution_count": null,
   "id": "0d495c22",
   "metadata": {},
   "outputs": [],
   "source": [
    "import os\n",
    "from PIL import Image\n",
    "import pandas as pd\n",
    "\n",
    "\n",
    "from sklearn.preprocessing import LabelEncoder"
   ]
  },
  {
   "cell_type": "markdown",
   "id": "63c4f5b5",
   "metadata": {},
   "source": [
    "## Variables"
   ]
  },
  {
   "cell_type": "code",
   "execution_count": 4,
   "id": "2264bfa5",
   "metadata": {},
   "outputs": [],
   "source": [
    "# Variables\n",
    "\n",
    "# image processing\n",
    "RAW_PATH = './data/raw-img'\n",
    "CLEAN_PATH='./data/processed'\n",
    "\n",
    "IMG_SIZE = 224       # src imgs are not square, should I just squash them into squares?\n",
    "\n",
    "# translation of category names (there's a missing value in the included translation file, so simply supplying my own version here)\n",
    "translate = {\"cane\": \"dog\", \n",
    "             \"cavallo\": \"horse\", \n",
    "             \"elefante\": \"elephant\", \n",
    "             \"farfalla\": \"butterfly\", \n",
    "             \"gallina\": \"chicken\", \n",
    "             \"gatto\": \"cat\", \n",
    "             \"mucca\": \"cow\", \n",
    "             \"pecora\": \"sheep\", \n",
    "             \"ragno\": \"spider\",\n",
    "             \"scoiattolo\": \"squirrel\", \n",
    "             \"dog\": \"cane\", \n",
    "             \"cavallo\": \"horse\", \n",
    "             \"elephant\" : \"elefante\", \n",
    "             \"butterfly\": \"farfalla\", \n",
    "             \"chicken\": \"gallina\", \n",
    "             \"cat\": \"gatto\", \n",
    "             \"cow\": \"mucca\", \n",
    "             \"spider\": \"ragno\", \n",
    "             \"squirrel\": \"scoiattolo\"}"
   ]
  },
  {
   "cell_type": "markdown",
   "id": "1f375bf8",
   "metadata": {},
   "source": [
    "## Auxiliary functions"
   ]
  },
  {
   "cell_type": "code",
   "execution_count": null,
   "id": "459cbbd5",
   "metadata": {},
   "outputs": [],
   "source": [
    "# adapted from readTrafficSigns.py by Institut für Neuroinformatik    \n",
    "def mk_img_csv(rootpath,csvfile='data/overview.csv',raw=False):\n",
    "\n",
    "    lst = []\n",
    "\n",
    "    \n",
    "    #  Hinweis: unter MacOS wird der versteckte Ordner\n",
    "    # \".DS_STORE\" mitgezählt\n",
    "    cat_folders = [cat for cat in os.listdir(rootpath) if not cat.startswith(\".\")]\n",
    "\n",
    "    print('Recognised following categories:', cat_folders)\n",
    "    \n",
    "    for c in cat_folders:\n",
    "        fullfolder = os.path.join(rootpath, c) + '/'\n",
    "        print('Reading filenames in folder', fullfolder)\n",
    "\n",
    "        for pic in os.listdir(fullfolder):\n",
    "            if pic.startswith(\".\"):  # Skip hidden files\n",
    "                continue\n",
    "\n",
    "            filepath = os.path.join(fullfolder, pic)\n",
    "            fileformat = pic.split('.')[-1]\n",
    "\n",
    "            try:\n",
    "                with Image.open(filepath) as img:\n",
    "                    width, height = img.size\n",
    "                    mode = img.mode  # 'RGB', 'RGBA', 'L', etc.\n",
    "                    channels = len(img.getbands())  # e.g., 3 for RGB, 4 for RGBA\n",
    "            except Exception as e:\n",
    "                print(f\"Error reading {filepath}: {e}\")\n",
    "                width, height, mode, channels = None, None, None, None\n",
    "\n",
    "            if raw:\n",
    "                lst.append({\n",
    "                    'relpath': filepath,\n",
    "                    'name': pic,\n",
    "                    'format': fileformat,\n",
    "                    'category': translate[c],  # translate category name from Italian\n",
    "                    'width': width,\n",
    "                    'height': height,\n",
    "                    'mode': mode,\n",
    "                    'channels': channels\n",
    "                })\n",
    "            else:\n",
    "                     lst.append({\n",
    "                    'relpath': filepath,\n",
    "                    'name': pic,\n",
    "                    'format': fileformat,\n",
    "                    'category': c,\n",
    "                    'width': width,\n",
    "                    'height': height,\n",
    "                    'mode': mode,\n",
    "                    'channels': channels\n",
    "                })\n",
    "\n",
    "            \n",
    "    \n",
    "    print('Writing csv file')\n",
    "    overview=pd.DataFrame(lst)\n",
    "    \n",
    "    if not raw:\n",
    "        encoder = LabelEncoder()\n",
    "        overview['label'] = encoder.fit_transform(overview['category']) \n",
    "   \n",
    "    overview.to_csv(csvfile,header=True)\n",
    "    \n",
    "    return overview\n",
    "\n",
    "# function to resize images and ensure RGB\n",
    "def preprocess_img(df, size=IMG_SIZE,target_root = \"data/preprocessed\"):\n",
    "    \"\"\" Transform all images listed in df to RGB and squares of appropriate size (IMG_SIZE)\n",
    "    \n",
    "    Saved in folder supplied to `target_root`\n",
    "    \"\"\"\n",
    "    \n",
    "    os.makedirs(target_root, exist_ok=True)\n",
    "\n",
    "    for index, row in df.iterrows():\n",
    "        src_path = row['relpath']\n",
    "        category = row['category']\n",
    "        target_folder = os.path.join(target_root, category)\n",
    "        os.makedirs(target_folder, exist_ok=True)\n",
    "        filename = os.path.splitext(os.path.basename(src_path))[0] + '.jpg'\n",
    "        target_path = os.path.join(target_folder, filename)\n",
    "        \n",
    "        try:\n",
    "            with Image.open(src_path) as img:\n",
    "                img = img.convert('RGB')\n",
    "                img = img.resize((size, size), Image.BILINEAR)\n",
    "                img.save(target_path, format='JPEG', quality=90)  # quality can be adjusted\n",
    "        except Exception as e:\n",
    "            print(f\"Error processing {src_path}: {e}\")\n"
   ]
  },
  {
   "cell_type": "markdown",
   "id": "cf3e4a05",
   "metadata": {},
   "source": [
    "# Checking the raw data"
   ]
  },
  {
   "cell_type": "code",
   "execution_count": 6,
   "id": "03335470",
   "metadata": {},
   "outputs": [
    {
     "name": "stdout",
     "output_type": "stream",
     "text": [
      "Recognised following categories: ['cane', 'cavallo', 'elefante', 'farfalla', 'gallina', 'gatto', 'mucca', 'pecora', 'ragno', 'scoiattolo']\n",
      "Reading filenames in folder ./data/raw-img/cane/\n",
      "Reading filenames in folder ./data/raw-img/cavallo/\n",
      "Reading filenames in folder ./data/raw-img/elefante/\n",
      "Reading filenames in folder ./data/raw-img/farfalla/\n",
      "Reading filenames in folder ./data/raw-img/gallina/\n",
      "Reading filenames in folder ./data/raw-img/gatto/\n",
      "Reading filenames in folder ./data/raw-img/mucca/\n",
      "Reading filenames in folder ./data/raw-img/pecora/\n",
      "Reading filenames in folder ./data/raw-img/ragno/\n",
      "Reading filenames in folder ./data/raw-img/scoiattolo/\n",
      "Writing csv file\n"
     ]
    }
   ],
   "source": [
    "raw_df = mk_img_csv(RAW_PATH,raw=True)"
   ]
  },
  {
   "cell_type": "code",
   "execution_count": 7,
   "id": "14a2c683",
   "metadata": {},
   "outputs": [
    {
     "data": {
      "text/plain": [
       "format  channels\n",
       "jpeg    3           24209\n",
       "jpg     1               1\n",
       "        3            1917\n",
       "        4               1\n",
       "png     3               2\n",
       "        4              49\n",
       "Name: name, dtype: int64"
      ]
     },
     "execution_count": 7,
     "metadata": {},
     "output_type": "execute_result"
    }
   ],
   "source": [
    "raw_df.groupby(['format','channels'])['name'].count()"
   ]
  },
  {
   "cell_type": "markdown",
   "id": "f3f1790f",
   "metadata": {},
   "source": [
    "All detected files are indeed picture formats, good. Imbalance in filetypes should not matter. (However, note the tip about possible pngs with transparency layer.)"
   ]
  },
  {
   "cell_type": "code",
   "execution_count": 8,
   "id": "13ddd38a",
   "metadata": {},
   "outputs": [
    {
     "data": {
      "text/plain": [
       "category\n",
       "butterfly    2112\n",
       "cat          1668\n",
       "chicken      3098\n",
       "cow          1866\n",
       "dog          4863\n",
       "elephant     1446\n",
       "horse        2623\n",
       "sheep        1820\n",
       "spider       4821\n",
       "squirrel     1862\n",
       "Name: name, dtype: int64"
      ]
     },
     "execution_count": 8,
     "metadata": {},
     "output_type": "execute_result"
    }
   ],
   "source": [
    "raw_df.groupby(['category'])['name'].count()"
   ]
  },
  {
   "cell_type": "code",
   "execution_count": 14,
   "id": "6749799e",
   "metadata": {},
   "outputs": [
    {
     "data": {
      "text/html": [
       "<div>\n",
       "<style scoped>\n",
       "    .dataframe tbody tr th:only-of-type {\n",
       "        vertical-align: middle;\n",
       "    }\n",
       "\n",
       "    .dataframe tbody tr th {\n",
       "        vertical-align: top;\n",
       "    }\n",
       "\n",
       "    .dataframe thead th {\n",
       "        text-align: right;\n",
       "    }\n",
       "</style>\n",
       "<table border=\"1\" class=\"dataframe\">\n",
       "  <thead>\n",
       "    <tr style=\"text-align: right;\">\n",
       "      <th></th>\n",
       "      <th>width</th>\n",
       "      <th>name</th>\n",
       "    </tr>\n",
       "  </thead>\n",
       "  <tbody>\n",
       "    <tr>\n",
       "      <th>167</th>\n",
       "      <td>300</td>\n",
       "      <td>19942</td>\n",
       "    </tr>\n",
       "    <tr>\n",
       "      <th>253</th>\n",
       "      <td>640</td>\n",
       "      <td>1765</td>\n",
       "    </tr>\n",
       "    <tr>\n",
       "      <th>92</th>\n",
       "      <td>225</td>\n",
       "      <td>496</td>\n",
       "    </tr>\n",
       "    <tr>\n",
       "      <th>67</th>\n",
       "      <td>200</td>\n",
       "      <td>383</td>\n",
       "    </tr>\n",
       "    <tr>\n",
       "      <th>68</th>\n",
       "      <td>201</td>\n",
       "      <td>133</td>\n",
       "    </tr>\n",
       "    <tr>\n",
       "      <th>...</th>\n",
       "      <td>...</td>\n",
       "      <td>...</td>\n",
       "    </tr>\n",
       "    <tr>\n",
       "      <th>254</th>\n",
       "      <td>2482</td>\n",
       "      <td>1</td>\n",
       "    </tr>\n",
       "    <tr>\n",
       "      <th>255</th>\n",
       "      <td>2848</td>\n",
       "      <td>1</td>\n",
       "    </tr>\n",
       "    <tr>\n",
       "      <th>170</th>\n",
       "      <td>369</td>\n",
       "      <td>1</td>\n",
       "    </tr>\n",
       "    <tr>\n",
       "      <th>171</th>\n",
       "      <td>382</td>\n",
       "      <td>1</td>\n",
       "    </tr>\n",
       "    <tr>\n",
       "      <th>248</th>\n",
       "      <td>623</td>\n",
       "      <td>1</td>\n",
       "    </tr>\n",
       "  </tbody>\n",
       "</table>\n",
       "<p>283 rows × 2 columns</p>\n",
       "</div>"
      ],
      "text/plain": [
       "     width   name\n",
       "167    300  19942\n",
       "253    640   1765\n",
       "92     225    496\n",
       "67     200    383\n",
       "68     201    133\n",
       "..     ...    ...\n",
       "254   2482      1\n",
       "255   2848      1\n",
       "170    369      1\n",
       "171    382      1\n",
       "248    623      1\n",
       "\n",
       "[283 rows x 2 columns]"
      ]
     },
     "execution_count": 14,
     "metadata": {},
     "output_type": "execute_result"
    }
   ],
   "source": [
    "raw_df.groupby(['width'])['name'].count().reset_index().sort_values(by='name',ascending=False)"
   ]
  },
  {
   "cell_type": "code",
   "execution_count": 16,
   "id": "5d87ad60",
   "metadata": {},
   "outputs": [
    {
     "data": {
      "text/html": [
       "<div>\n",
       "<style scoped>\n",
       "    .dataframe tbody tr th:only-of-type {\n",
       "        vertical-align: middle;\n",
       "    }\n",
       "\n",
       "    .dataframe tbody tr th {\n",
       "        vertical-align: top;\n",
       "    }\n",
       "\n",
       "    .dataframe thead th {\n",
       "        text-align: right;\n",
       "    }\n",
       "</style>\n",
       "<table border=\"1\" class=\"dataframe\">\n",
       "  <thead>\n",
       "    <tr style=\"text-align: right;\">\n",
       "      <th></th>\n",
       "      <th>height</th>\n",
       "      <th>name</th>\n",
       "    </tr>\n",
       "  </thead>\n",
       "  <tbody>\n",
       "    <tr>\n",
       "      <th>209</th>\n",
       "      <td>300</td>\n",
       "      <td>4870</td>\n",
       "    </tr>\n",
       "    <tr>\n",
       "      <th>134</th>\n",
       "      <td>225</td>\n",
       "      <td>4401</td>\n",
       "    </tr>\n",
       "    <tr>\n",
       "      <th>109</th>\n",
       "      <td>200</td>\n",
       "      <td>3295</td>\n",
       "    </tr>\n",
       "    <tr>\n",
       "      <th>78</th>\n",
       "      <td>169</td>\n",
       "      <td>1049</td>\n",
       "    </tr>\n",
       "    <tr>\n",
       "      <th>303</th>\n",
       "      <td>426</td>\n",
       "      <td>694</td>\n",
       "    </tr>\n",
       "    <tr>\n",
       "      <th>...</th>\n",
       "      <td>...</td>\n",
       "      <td>...</td>\n",
       "    </tr>\n",
       "    <tr>\n",
       "      <th>448</th>\n",
       "      <td>4272</td>\n",
       "      <td>1</td>\n",
       "    </tr>\n",
       "    <tr>\n",
       "      <th>449</th>\n",
       "      <td>4480</td>\n",
       "      <td>1</td>\n",
       "    </tr>\n",
       "    <tr>\n",
       "      <th>450</th>\n",
       "      <td>4608</td>\n",
       "      <td>1</td>\n",
       "    </tr>\n",
       "    <tr>\n",
       "      <th>451</th>\n",
       "      <td>4884</td>\n",
       "      <td>1</td>\n",
       "    </tr>\n",
       "    <tr>\n",
       "      <th>452</th>\n",
       "      <td>5365</td>\n",
       "      <td>1</td>\n",
       "    </tr>\n",
       "  </tbody>\n",
       "</table>\n",
       "<p>454 rows × 2 columns</p>\n",
       "</div>"
      ],
      "text/plain": [
       "     height  name\n",
       "209     300  4870\n",
       "134     225  4401\n",
       "109     200  3295\n",
       "78      169  1049\n",
       "303     426   694\n",
       "..      ...   ...\n",
       "448    4272     1\n",
       "449    4480     1\n",
       "450    4608     1\n",
       "451    4884     1\n",
       "452    5365     1\n",
       "\n",
       "[454 rows x 2 columns]"
      ]
     },
     "execution_count": 16,
     "metadata": {},
     "output_type": "execute_result"
    }
   ],
   "source": [
    "raw_df.groupby(['height'])['name'].count().reset_index().sort_values(by='name',ascending=False)"
   ]
  },
  {
   "cell_type": "markdown",
   "id": "98aa6fb8",
   "metadata": {},
   "source": [
    "We can see that the dataset is unbalanced. We will need to up- or downsample to create equally sized categories. If possible, upsampling would be nicer to avoid wasting data. For now, we will just preprocess the images to ensure they are the same size and have 3 channels each."
   ]
  },
  {
   "cell_type": "markdown",
   "id": "8ac8f317",
   "metadata": {},
   "source": [
    "# Preprocess images (normalise size, ensure RGB)"
   ]
  },
  {
   "cell_type": "code",
   "execution_count": null,
   "id": "422fff0a",
   "metadata": {},
   "outputs": [],
   "source": [
    "# scaling and normalising pictures\n",
    "# uncomment if data preprocessing should be repeated\n",
    "# preprocess_img(raw_df,target_root=CLEAN_PATH)"
   ]
  },
  {
   "cell_type": "code",
   "execution_count": 14,
   "id": "ac21c12f",
   "metadata": {},
   "outputs": [
    {
     "name": "stdout",
     "output_type": "stream",
     "text": [
      "Recognised following categories: ['dog', 'horse', 'elephant', 'butterfly', 'chicken', 'cat', 'cow', 'sheep', 'spider', 'squirrel']\n",
      "Reading filenames in folder ./data/processed/dog/\n",
      "Reading filenames in folder ./data/processed/horse/\n",
      "Reading filenames in folder ./data/processed/elephant/\n",
      "Reading filenames in folder ./data/processed/butterfly/\n",
      "Reading filenames in folder ./data/processed/chicken/\n",
      "Reading filenames in folder ./data/processed/cat/\n",
      "Reading filenames in folder ./data/processed/cow/\n",
      "Reading filenames in folder ./data/processed/sheep/\n",
      "Reading filenames in folder ./data/processed/spider/\n",
      "Reading filenames in folder ./data/processed/squirrel/\n",
      "Writing csv file\n"
     ]
    }
   ],
   "source": [
    "# create dataframe for cleaned data\n",
    "# save csv for further use\n",
    "clean_df = mk_img_csv(CLEAN_PATH,csvfile='data/processed-overview.csv')"
   ]
  },
  {
   "cell_type": "code",
   "execution_count": 15,
   "id": "7876a0d8",
   "metadata": {},
   "outputs": [
    {
     "data": {
      "text/html": [
       "<div>\n",
       "<style scoped>\n",
       "    .dataframe tbody tr th:only-of-type {\n",
       "        vertical-align: middle;\n",
       "    }\n",
       "\n",
       "    .dataframe tbody tr th {\n",
       "        vertical-align: top;\n",
       "    }\n",
       "\n",
       "    .dataframe thead th {\n",
       "        text-align: right;\n",
       "    }\n",
       "</style>\n",
       "<table border=\"1\" class=\"dataframe\">\n",
       "  <thead>\n",
       "    <tr style=\"text-align: right;\">\n",
       "      <th></th>\n",
       "      <th>relpath</th>\n",
       "      <th>name</th>\n",
       "      <th>format</th>\n",
       "      <th>category</th>\n",
       "      <th>width</th>\n",
       "      <th>height</th>\n",
       "      <th>mode</th>\n",
       "      <th>channels</th>\n",
       "      <th>label</th>\n",
       "    </tr>\n",
       "  </thead>\n",
       "  <tbody>\n",
       "    <tr>\n",
       "      <th>0</th>\n",
       "      <td>./data/processed/dog/OIF-e2bexWrojgtQnAPPcUfOW...</td>\n",
       "      <td>OIF-e2bexWrojgtQnAPPcUfOWQ.jpg</td>\n",
       "      <td>jpg</td>\n",
       "      <td>dog</td>\n",
       "      <td>224</td>\n",
       "      <td>224</td>\n",
       "      <td>RGB</td>\n",
       "      <td>3</td>\n",
       "      <td>4</td>\n",
       "    </tr>\n",
       "    <tr>\n",
       "      <th>1</th>\n",
       "      <td>./data/processed/dog/OIP---A27bIBcUgX1qkbpZOPs...</td>\n",
       "      <td>OIP---A27bIBcUgX1qkbpZOPswHaFS.jpg</td>\n",
       "      <td>jpg</td>\n",
       "      <td>dog</td>\n",
       "      <td>224</td>\n",
       "      <td>224</td>\n",
       "      <td>RGB</td>\n",
       "      <td>3</td>\n",
       "      <td>4</td>\n",
       "    </tr>\n",
       "    <tr>\n",
       "      <th>2</th>\n",
       "      <td>./data/processed/dog/OIP---ZIdwfUcJeVxnh47zppc...</td>\n",
       "      <td>OIP---ZIdwfUcJeVxnh47zppcQHaFj.jpg</td>\n",
       "      <td>jpg</td>\n",
       "      <td>dog</td>\n",
       "      <td>224</td>\n",
       "      <td>224</td>\n",
       "      <td>RGB</td>\n",
       "      <td>3</td>\n",
       "      <td>4</td>\n",
       "    </tr>\n",
       "    <tr>\n",
       "      <th>3</th>\n",
       "      <td>./data/processed/dog/OIP---ZRsOF7zsMqhW30WeF8-...</td>\n",
       "      <td>OIP---ZRsOF7zsMqhW30WeF8-AHaFj.jpg</td>\n",
       "      <td>jpg</td>\n",
       "      <td>dog</td>\n",
       "      <td>224</td>\n",
       "      <td>224</td>\n",
       "      <td>RGB</td>\n",
       "      <td>3</td>\n",
       "      <td>4</td>\n",
       "    </tr>\n",
       "    <tr>\n",
       "      <th>4</th>\n",
       "      <td>./data/processed/dog/OIP---_cJbI6Ei26w5bW1urHe...</td>\n",
       "      <td>OIP---_cJbI6Ei26w5bW1urHewHaCf.jpg</td>\n",
       "      <td>jpg</td>\n",
       "      <td>dog</td>\n",
       "      <td>224</td>\n",
       "      <td>224</td>\n",
       "      <td>RGB</td>\n",
       "      <td>3</td>\n",
       "      <td>4</td>\n",
       "    </tr>\n",
       "  </tbody>\n",
       "</table>\n",
       "</div>"
      ],
      "text/plain": [
       "                                             relpath  \\\n",
       "0  ./data/processed/dog/OIF-e2bexWrojgtQnAPPcUfOW...   \n",
       "1  ./data/processed/dog/OIP---A27bIBcUgX1qkbpZOPs...   \n",
       "2  ./data/processed/dog/OIP---ZIdwfUcJeVxnh47zppc...   \n",
       "3  ./data/processed/dog/OIP---ZRsOF7zsMqhW30WeF8-...   \n",
       "4  ./data/processed/dog/OIP---_cJbI6Ei26w5bW1urHe...   \n",
       "\n",
       "                                 name format category  width  height mode  \\\n",
       "0      OIF-e2bexWrojgtQnAPPcUfOWQ.jpg    jpg      dog    224     224  RGB   \n",
       "1  OIP---A27bIBcUgX1qkbpZOPswHaFS.jpg    jpg      dog    224     224  RGB   \n",
       "2  OIP---ZIdwfUcJeVxnh47zppcQHaFj.jpg    jpg      dog    224     224  RGB   \n",
       "3  OIP---ZRsOF7zsMqhW30WeF8-AHaFj.jpg    jpg      dog    224     224  RGB   \n",
       "4  OIP---_cJbI6Ei26w5bW1urHewHaCf.jpg    jpg      dog    224     224  RGB   \n",
       "\n",
       "   channels  label  \n",
       "0         3      4  \n",
       "1         3      4  \n",
       "2         3      4  \n",
       "3         3      4  \n",
       "4         3      4  "
      ]
     },
     "execution_count": 15,
     "metadata": {},
     "output_type": "execute_result"
    }
   ],
   "source": [
    "# data overview\n",
    "clean_df.head()"
   ]
  },
  {
   "cell_type": "code",
   "execution_count": 16,
   "id": "dc64dfcb",
   "metadata": {},
   "outputs": [
    {
     "data": {
      "text/plain": [
       "format  channels  width  height\n",
       "jpg     3         224    224       26179\n",
       "Name: name, dtype: int64"
      ]
     },
     "execution_count": 16,
     "metadata": {},
     "output_type": "execute_result"
    }
   ],
   "source": [
    "# all images are jpgs with 3 channels and a format of 200x200 now\n",
    "clean_df.groupby(['format','channels','width','height'])['name'].count()"
   ]
  },
  {
   "cell_type": "markdown",
   "id": "a7859a3d",
   "metadata": {},
   "source": [
    "The dataset can now be used."
   ]
  }
 ],
 "metadata": {
  "kernelspec": {
   "display_name": "tensorvenv",
   "language": "python",
   "name": "python3"
  },
  "language_info": {
   "codemirror_mode": {
    "name": "ipython",
    "version": 3
   },
   "file_extension": ".py",
   "mimetype": "text/x-python",
   "name": "python",
   "nbconvert_exporter": "python",
   "pygments_lexer": "ipython3",
   "version": "3.12.9"
  }
 },
 "nbformat": 4,
 "nbformat_minor": 5
}
